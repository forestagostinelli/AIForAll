{
 "cells": [
  {
   "metadata": {
    "ExecuteTime": {
     "end_time": "2025-08-28T20:35:46.489027Z",
     "start_time": "2025-08-28T20:35:46.192239Z"
    }
   },
   "cell_type": "code",
   "source": [
    "from typing import List, Tuple\n",
    "import numpy as np\n",
    "import matplotlib.pyplot as plt"
   ],
   "id": "7a0559fb364fcfae",
   "outputs": [],
   "execution_count": 1
  },
  {
   "metadata": {},
   "cell_type": "code",
   "source": [
    "def visualize_data(data_class1: List[float], data_class2: List[float]):\n",
    "    pass"
   ],
   "id": "d49f37cc77c6c3cc",
   "outputs": [],
   "execution_count": null
  },
  {
   "metadata": {},
   "cell_type": "code",
   "source": [
    "def gen_data_example() -> Tuple[List[float], List[float]]:\n",
    "    data_class1: List[float] = list(np.random.normal(1, 0.1, size=100))\n",
    "    data_class2: List[float] = list(np.random.normal(3, 0.1, size=100))\n",
    "\n",
    "    return data_class1, data_class2\n",
    "\n",
    "data_class1, data_class2 = gen_data_example()\n",
    "visualize_data(data_class1, data_class2)"
   ],
   "id": "ea5a04bc2880d355",
   "outputs": [],
   "execution_count": null
  }
 ],
 "metadata": {
  "kernelspec": {
   "name": "python3",
   "language": "python",
   "display_name": "Python 3 (ipykernel)"
  }
 },
 "nbformat": 4,
 "nbformat_minor": 5
}
